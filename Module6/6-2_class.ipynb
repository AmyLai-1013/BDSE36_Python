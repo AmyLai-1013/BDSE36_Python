{
 "cells": [
  {
   "cell_type": "markdown",
   "metadata": {},
   "source": [
    "##### Class 設計"
   ]
  },
  {
   "cell_type": "code",
   "execution_count": 10,
   "metadata": {},
   "outputs": [
    {
     "name": "stdout",
     "output_type": "stream",
     "text": [
      "[{'Database': 'information_schema'}, {'Database': 'my_database'}, {'Database': 'my_train_titanic'}, {'Database': 'mysql'}, {'Database': 'performance_schema'}, {'Database': 'sakila'}, {'Database': 'social_media_app'}, {'Database': 'sys'}, {'Database': 'world'}]\n",
      "[{'Tables_in_my_train_titanic': 'artists'}, {'Tables_in_my_train_titanic': 'passengers'}, {'Tables_in_my_train_titanic': 'ports'}, {'Tables_in_my_train_titanic': 'songs'}, {'Tables_in_my_train_titanic': 'tickets'}]\n",
      "[{'id': 553, 'survived': Decimal('0.00'), 'pclass': Decimal('3.00'), 'name': \"O'Brien, Mr. Timothy\", 'sex': 'male', 'age': None, 'sibsp': 0, 'parch': 0, 'cabin': None, 'ticketId': 457, 'portId': 3}]\n"
     ]
    }
   ],
   "source": [
    "import pymysql\n",
    "\n",
    "class SqlQuery:\n",
    "    def __init__(self, database=None):\n",
    "        self.connection = pymysql.connect(\n",
    "            host=\"localhost\",\n",
    "            user=\"root\",\n",
    "            password=\"P@ssw0rd\", \n",
    "            port=3306,\n",
    "            database=database,\n",
    "            cursorclass=pymysql.cursors.DictCursor\n",
    "        )\n",
    "\n",
    "    def show_db(self):\n",
    "        with self.connection.cursor() as cursor:\n",
    "            sql = \"SHOW DATABASES;\"\n",
    "            cursor.execute(sql)\n",
    "            result = cursor.fetchall()\n",
    "\n",
    "        return result\n",
    "    \n",
    "    def show_table(self):\n",
    "        with self.connection.cursor() as cursor:\n",
    "            sql = \"SHOW TABLES;\"\n",
    "            cursor.execute(sql)\n",
    "            result = cursor.fetchall()\n",
    "\n",
    "        return result\n",
    "    \n",
    "    def query(self, sql):\n",
    "        with self.connection.cursor() as cursor:\n",
    "            cursor.execute(sql)\n",
    "            result = cursor.fetchall()\n",
    "        return result\n",
    "\n",
    "\n",
    "\n",
    "q1 = SqlQuery()\n",
    "db = q1.show_db()\n",
    "print(db)\n",
    "\n",
    "my_train_titanic_q = SqlQuery(\"my_train_titanic\")\n",
    "tables = my_train_titanic_q.show_table()\n",
    "print(tables)\n",
    "\n",
    "# \"\"\" 讓字串可以換行\n",
    "sql = \"\"\" \n",
    "SELECT * FROM passengers\n",
    "WHERE sex = 'male' AND name LIKE '%Timothy'\n",
    "LIMIT 1;\n",
    "\"\"\"\n",
    "\n",
    "passengers = my_train_titanic_q.query(sql)\n",
    "print(passengers)\n"
   ]
  },
  {
   "cell_type": "code",
   "execution_count": null,
   "metadata": {},
   "outputs": [],
   "source": []
  },
  {
   "cell_type": "markdown",
   "metadata": {},
   "source": [
    "##### 繼承"
   ]
  },
  {
   "cell_type": "code",
   "execution_count": null,
   "metadata": {},
   "outputs": [],
   "source": []
  }
 ],
 "metadata": {
  "kernelspec": {
   "display_name": "Python 3",
   "language": "python",
   "name": "python3"
  },
  "language_info": {
   "codemirror_mode": {
    "name": "ipython",
    "version": 3
   },
   "file_extension": ".py",
   "mimetype": "text/x-python",
   "name": "python",
   "nbconvert_exporter": "python",
   "pygments_lexer": "ipython3",
   "version": "3.13.0"
  }
 },
 "nbformat": 4,
 "nbformat_minor": 2
}
