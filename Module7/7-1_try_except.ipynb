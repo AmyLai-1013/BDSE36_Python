{
 "cells": [
  {
   "cell_type": "markdown",
   "metadata": {},
   "source": [
    "##### try...except..."
   ]
  },
  {
   "cell_type": "code",
   "execution_count": 12,
   "metadata": {},
   "outputs": [
    {
     "name": "stdout",
     "output_type": "stream",
     "text": [
      "Exception: list index out of range\n",
      "100\n"
     ]
    }
   ],
   "source": [
    "# 可以連續定義數個例外處理機制\n",
    "# 最符合的例外事件類別會先拋出\n",
    "try:\n",
    "    num_list = [1, 2, 3]\n",
    "    print(num_list[5])\n",
    "\n",
    "    print(x)\n",
    "except Exception as e:\n",
    "    print(f\"Exception: {e}\")\n",
    "except IndexError:\n",
    "    print(\"發生 Index 錯誤\")\n",
    "except NameError:\n",
    "    print(\"發生 Name 錯誤\")\n",
    "    x = 100\n",
    "except:\n",
    "    print(\"有錯誤發生\")\n",
    "print(x)\n",
    "# print(\"OK\")\n"
   ]
  },
  {
   "cell_type": "code",
   "execution_count": null,
   "metadata": {},
   "outputs": [],
   "source": [
    "# 多層例外處理:\n",
    "\n"
   ]
  },
  {
   "cell_type": "markdown",
   "metadata": {},
   "source": [
    "##### try...except...else...finally"
   ]
  },
  {
   "cell_type": "code",
   "execution_count": 16,
   "metadata": {},
   "outputs": [
    {
     "name": "stdout",
     "output_type": "stream",
     "text": [
      "1. x 一開始是: 5\n",
      "2.變數尚未宣告\n",
      "4.程式結束\n"
     ]
    }
   ],
   "source": [
    "# 如果沒有錯誤，就會執行 else 程式區塊\n",
    "# finally 程式區塊是無論有無錯誤，都會執行\n",
    "\n",
    "try:\n",
    "    x = 5\n",
    "    print(f\"1. x 一開始是: {x}\")\n",
    "    print(z)\n",
    "\n",
    "except NameError:\n",
    "    print(\"2.變數尚未宣告\")\n",
    "\n",
    "else:\n",
    "    x += 5\n",
    "    print(\"3.沒有例外發生才會執行\")\n",
    "\n",
    "finally:\n",
    "    # print(f\"Finally x:{x}\")\n",
    "    print(\"4.程式結束\")\n"
   ]
  }
 ],
 "metadata": {
  "kernelspec": {
   "display_name": "Python 3",
   "language": "python",
   "name": "python3"
  },
  "language_info": {
   "codemirror_mode": {
    "name": "ipython",
    "version": 3
   },
   "file_extension": ".py",
   "mimetype": "text/x-python",
   "name": "python",
   "nbconvert_exporter": "python",
   "pygments_lexer": "ipython3",
   "version": "3.13.0"
  }
 },
 "nbformat": 4,
 "nbformat_minor": 2
}
