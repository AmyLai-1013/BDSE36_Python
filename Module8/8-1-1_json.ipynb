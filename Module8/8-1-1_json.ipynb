{
 "cells": [
  {
   "cell_type": "markdown",
   "metadata": {},
   "source": [
    "### `json` 套件"
   ]
  },
  {
   "cell_type": "markdown",
   "metadata": {},
   "source": [
    "| 用法 | 說明 |\n",
    "|:--:|:--:|\n",
    "|`json.dump(<obj>, <file>)` |物件轉JSON並寫入文件|\n",
    "|`json.dumps(<obj>)` |物件轉JSON字串|\n",
    "|`json.load(<file>)` |讀取JSON文件|\n",
    "|`json.loads(<str>)` |將JSON字串轉成Python物件|"
   ]
  },
  {
   "cell_type": "code",
   "execution_count": null,
   "metadata": {},
   "outputs": [],
   "source": [
    "import json\n",
    "\n",
    "fruit_dict = {\n",
    "    \"apple\": {\n",
    "        \"price\":100,\n",
    "        \"quantity\":10,\n",
    "        \"color\":[\"green\", \"red\"]\n",
    "    }, \n",
    "    \"orange\": {\n",
    "        \"price\":20,\n",
    "        \"quantity\":50,\n",
    "        \"color\": [\"orange\"]\n",
    "    }\n",
    "}\n",
    "\n",
    "with open(\"fruit.json\", \"w\", encoding=\"utf-8\") as f:\n",
    "    json.dump(fruit_dict, f, indent=4) # indent 縮排要縮幾格"
   ]
  },
  {
   "cell_type": "code",
   "execution_count": 8,
   "metadata": {},
   "outputs": [],
   "source": [
    "with open(\"fruit2.json\", \"w\", encoding=\"utf-8\") as f:\n",
    "    f.write(json.dumps(fruit_dict, indent=4)) # indent 縮排要縮幾格\n",
    "    "
   ]
  },
  {
   "cell_type": "code",
   "execution_count": 10,
   "metadata": {},
   "outputs": [
    {
     "name": "stdout",
     "output_type": "stream",
     "text": [
      "{'apple': {'price': 100, 'quantity': 10, 'color': ['green', 'red']}, 'orange': {'price': 20, 'quantity': 50, 'color': ['orange']}}\n",
      "{'price': 100, 'quantity': 10, 'color': ['green', 'red']}\n"
     ]
    }
   ],
   "source": [
    "with open(\"fruit2.json\", \"r\", encoding=\"utf-8\") as f:\n",
    "    data = json.load(f)\n",
    "print(data)\n",
    "print(data[\"apple\"])"
   ]
  },
  {
   "cell_type": "code",
   "execution_count": 11,
   "metadata": {},
   "outputs": [
    {
     "name": "stdout",
     "output_type": "stream",
     "text": [
      "<class 'str'>\n",
      "<class 'dict'>\n",
      "{'apple': {'price': 100, 'quantity': 10, 'color': ['green', 'red']}, 'orange': {'price': 20, 'quantity': 50, 'color': ['orange']}}\n",
      "{'price': 100, 'quantity': 10, 'color': ['green', 'red']}\n"
     ]
    }
   ],
   "source": [
    "with open(\"fruit2.json\", \"r\", encoding=\"utf-8\") as f:\n",
    "    data = f.read()\n",
    "print(type(data))\n",
    "data_dict = json.loads(data)\n",
    "print(type(data_dict))\n",
    "print(data_dict)\n",
    "print(data_dict[\"apple\"])"
   ]
  }
 ],
 "metadata": {
  "kernelspec": {
   "display_name": "Python 3",
   "language": "python",
   "name": "python3"
  },
  "language_info": {
   "codemirror_mode": {
    "name": "ipython",
    "version": 3
   },
   "file_extension": ".py",
   "mimetype": "text/x-python",
   "name": "python",
   "nbconvert_exporter": "python",
   "pygments_lexer": "ipython3",
   "version": "3.13.0"
  }
 },
 "nbformat": 4,
 "nbformat_minor": 2
}
