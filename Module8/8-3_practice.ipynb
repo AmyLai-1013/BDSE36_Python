{
 "cells": [
  {
   "cell_type": "markdown",
   "metadata": {},
   "source": [
    "##### 將 data.txt 的資料分類成另外三個檔案，分別為 cc.txt 、 css.txt 、 c.txt  "
   ]
  },
  {
   "cell_type": "code",
   "execution_count": null,
   "metadata": {},
   "outputs": [
    {
     "name": "stdout",
     "output_type": "stream",
     "text": [
      "<_io.TextIOWrapper name='cc.txt' mode='a' encoding='utf-8'>\n",
      "<class 'list'>\n",
      "['abc0182.cc\\n', 'abc0102.cc\\n', 'abc0281.cc\\n', 'abc0134.c\\n', 'abc0238.cc\\n', 'abc0244.c\\n', 'abc0157.css\\n', 'abc0116.c\\n', 'abc0245.cc\\n', 'abc0187.cc\\n', 'abc0202.c\\n', 'abc0285.cc\\n', 'abc0220.cc\\n', 'abc0174.css\\n', 'abc0140.c\\n', 'abc0176.c\\n', 'abc0174.css\\n', 'abc0244.css\\n', 'abc0289.css\\n', 'abc0175.c']\n",
      "['abc0182.cc', 'abc0102.cc', 'abc0281.cc', 'abc0134.c', 'abc0238.cc', 'abc0244.c', 'abc0157.css', 'abc0116.c', 'abc0245.cc', 'abc0187.cc', 'abc0202.c', 'abc0285.cc', 'abc0220.cc', 'abc0174.css', 'abc0140.c', 'abc0176.c', 'abc0174.css', 'abc0244.css', 'abc0289.css', 'abc0175.c']\n"
     ]
    }
   ],
   "source": [
    "with open(file=\"data.txt\", mode='r', encoding=\"utf-8\") as f:\n",
    "    data_list = f.readlines()\n",
    "    \n",
    "    data_without_n_list = []\n",
    "    for i in data_list:\n",
    "        data_without_n_list.append(i.strip('\\n'))\n",
    "    for data in data_without_n_list:\n",
    "        # if data[-3:] == 'css'\n",
    "        if \"css\" in data: \n",
    "            with open(\"css.txt\", 'a', encoding=\"utf-8\") as f:\n",
    "                f.write(data + '\\n')\n",
    "\n",
    "        # elif data[-2:] == 'cc'\n",
    "        elif \"cc\" in data: \n",
    "            with open(\"cc.txt\", 'a', encoding=\"utf-8\") as f:\n",
    "                f.write(data + '\\n')\n",
    "\n",
    "        # elif data[-1:] == 'c'\n",
    "        else: \n",
    "            with open(\"c.txt\", 'a', encoding=\"utf-8\") as f:\n",
    "                f.write(data + '\\n')\n",
    "\n",
    "print(data_without_n_list)\n",
    "\n"
   ]
  }
 ],
 "metadata": {
  "kernelspec": {
   "display_name": "Python 3",
   "language": "python",
   "name": "python3"
  },
  "language_info": {
   "codemirror_mode": {
    "name": "ipython",
    "version": 3
   },
   "file_extension": ".py",
   "mimetype": "text/x-python",
   "name": "python",
   "nbconvert_exporter": "python",
   "pygments_lexer": "ipython3",
   "version": "3.13.0"
  }
 },
 "nbformat": 4,
 "nbformat_minor": 2
}
